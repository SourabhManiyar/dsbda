{
 "cells": [
  {
   "cell_type": "markdown",
   "metadata": {},
   "source": [
    "# Text Analysis\n",
    "Name: Sourabh Maniyar<br>\n",
    "Roll no.: 31251"
   ]
  },
  {
   "cell_type": "markdown",
   "metadata": {},
   "source": [
    "## Import Python Modules"
   ]
  },
  {
   "cell_type": "code",
   "execution_count": 1,
   "metadata": {},
   "outputs": [
    {
     "name": "stdout",
     "output_type": "stream",
     "text": [
      "Defaulting to user installation because normal site-packages is not writeable\n",
      "Requirement already satisfied: nltk in /home/spm/.local/lib/python3.10/site-packages (3.7)\n",
      "Requirement already satisfied: tqdm in /home/spm/.local/lib/python3.10/site-packages (from nltk) (4.64.0)\n",
      "Requirement already satisfied: click in /usr/lib/python3/dist-packages (from nltk) (8.0.3)\n",
      "Requirement already satisfied: regex>=2021.8.3 in /home/spm/.local/lib/python3.10/site-packages (from nltk) (2022.4.24)\n",
      "Requirement already satisfied: joblib in /home/spm/.local/lib/python3.10/site-packages (from nltk) (1.1.0)\n"
     ]
    }
   ],
   "source": [
    "!pip install nltk"
   ]
  },
  {
   "cell_type": "code",
   "execution_count": 1,
   "metadata": {},
   "outputs": [],
   "source": [
    "import pandas as pd\n",
    "import numpy as np\n",
    "import nltk"
   ]
  },
  {
   "cell_type": "markdown",
   "metadata": {},
   "source": [
    "## Extract Text from Document"
   ]
  },
  {
   "cell_type": "code",
   "execution_count": 2,
   "metadata": {},
   "outputs": [
    {
     "data": {
      "text/plain": [
       "'Hello everyone! This is a text analysis assignment. We will be using preprocessing methods like Tokenization, POS tagging , stop words removal, stemming and lemmatization.'"
      ]
     },
     "execution_count": 2,
     "metadata": {},
     "output_type": "execute_result"
    }
   ],
   "source": [
    "text = open('text_doc.txt').read()\n",
    "text"
   ]
  },
  {
   "cell_type": "markdown",
   "metadata": {},
   "source": [
    "## Tokenization\n",
    "Tokenization is the process of breaking down the given text in natural language processing into the smallest unit in a sentence called a token."
   ]
  },
  {
   "cell_type": "code",
   "execution_count": 3,
   "metadata": {},
   "outputs": [
    {
     "data": {
      "text/plain": [
       "['Hello everyone!',\n",
       " 'This is a text analysis assignment.',\n",
       " 'We will be using preprocessing methods like Tokenization, POS tagging , stop words removal, stemming and lemmatization.']"
      ]
     },
     "execution_count": 3,
     "metadata": {},
     "output_type": "execute_result"
    }
   ],
   "source": [
    "tokens_sent = nltk.sent_tokenize(text)\n",
    "tokens_sent"
   ]
  },
  {
   "cell_type": "code",
   "execution_count": 4,
   "metadata": {},
   "outputs": [
    {
     "name": "stdout",
     "output_type": "stream",
     "text": [
      "['Hello', 'everyone', '!', 'This', 'is', 'a', 'text', 'analysis', 'assignment', '.', 'We', 'will', 'be', 'using', 'preprocessing', 'methods', 'like', 'Tokenization', ',', 'POS', 'tagging', ',', 'stop', 'words', 'removal', ',', 'stemming', 'and', 'lemmatization', '.']\n"
     ]
    }
   ],
   "source": [
    "tokens_words = nltk.word_tokenize(text)\n",
    "print(tokens_words)"
   ]
  },
  {
   "cell_type": "markdown",
   "metadata": {},
   "source": [
    "## POS Tagging\n",
    "Part of Speech Tagging (POS-Tag) is the labeling of the words in a text according to their word types (noun, adjective, adverb, verb, etc.). <br>\n",
    "List of tags: https://www.guru99.com/pos-tagging-chunking-nltk.html"
   ]
  },
  {
   "cell_type": "code",
   "execution_count": 5,
   "metadata": {},
   "outputs": [
    {
     "name": "stdout",
     "output_type": "stream",
     "text": [
      "[('Hello', 'NNP'), ('everyone', 'NN'), ('!', '.'), ('This', 'DT'), ('is', 'VBZ'), ('a', 'DT'), ('text', 'JJ'), ('analysis', 'NN'), ('assignment', 'NN'), ('.', '.'), ('We', 'PRP'), ('will', 'MD'), ('be', 'VB'), ('using', 'VBG'), ('preprocessing', 'VBG'), ('methods', 'NNS'), ('like', 'IN'), ('Tokenization', 'NNP'), (',', ','), ('POS', 'NNP'), ('tagging', 'NN'), (',', ','), ('stop', 'VB'), ('words', 'NNS'), ('removal', 'JJ'), (',', ','), ('stemming', 'VBG'), ('and', 'CC'), ('lemmatization', 'NN'), ('.', '.')]\n"
     ]
    }
   ],
   "source": [
    "tagged = nltk.pos_tag(tokens_words)\n",
    "print(tagged)"
   ]
  },
  {
   "cell_type": "markdown",
   "metadata": {},
   "source": [
    "## Stop Words Removal\n",
    "It is a process of removing words which don't have strong meaning like articles, 'and', 'it's'."
   ]
  },
  {
   "cell_type": "code",
   "execution_count": 6,
   "metadata": {},
   "outputs": [],
   "source": [
    "from nltk.corpus import stopwords"
   ]
  },
  {
   "cell_type": "code",
   "execution_count": 7,
   "metadata": {},
   "outputs": [
    {
     "name": "stdout",
     "output_type": "stream",
     "text": [
      "['i', 'me', 'my', 'myself', 'we', 'our', 'ours', 'ourselves', 'you', \"you're\"]\n"
     ]
    },
    {
     "data": {
      "text/plain": [
       "179"
      ]
     },
     "execution_count": 7,
     "metadata": {},
     "output_type": "execute_result"
    }
   ],
   "source": [
    "stop_words = stopwords.words('english')\n",
    "print(stop_words[:10])\n",
    "len(stop_words)"
   ]
  },
  {
   "cell_type": "code",
   "execution_count": 8,
   "metadata": {},
   "outputs": [
    {
     "name": "stdout",
     "output_type": "stream",
     "text": [
      "['hello', 'everyone', '!', 'this', 'is', 'a', 'text', 'analysis', 'assignment', '.', 'we', 'will', 'be', 'using', 'preprocessing', 'methods', 'like', 'tokenization', ',', 'pos', 'tagging', ',', 'stop', 'words', 'removal', ',', 'stemming', 'and', 'lemmatization', '.']\n"
     ]
    }
   ],
   "source": [
    "tokens_words_lowercase = []\n",
    "for word in tokens_words:\n",
    "    tokens_words_lowercase.append(word.lower())\n",
    "print(tokens_words_lowercase)"
   ]
  },
  {
   "cell_type": "code",
   "execution_count": 9,
   "metadata": {},
   "outputs": [
    {
     "name": "stdout",
     "output_type": "stream",
     "text": [
      "['hello', 'everyone', '!', 'text', 'analysis', 'assignment', '.', 'using', 'preprocessing', 'methods', 'like', 'tokenization', ',', 'pos', 'tagging', ',', 'stop', 'words', 'removal', ',', 'stemming', 'lemmatization', '.']\n"
     ]
    }
   ],
   "source": [
    "clean_token = []\n",
    "for i in tokens_words_lowercase:\n",
    "    if i not in stop_words:\n",
    "        clean_token.append(i)\n",
    "print(clean_token)"
   ]
  },
  {
   "cell_type": "markdown",
   "metadata": {},
   "source": [
    "## Stemming\n",
    "Stemming is the process of finding the root of words."
   ]
  },
  {
   "cell_type": "code",
   "execution_count": 10,
   "metadata": {},
   "outputs": [],
   "source": [
    "from nltk.stem import PorterStemmer"
   ]
  },
  {
   "cell_type": "code",
   "execution_count": 11,
   "metadata": {},
   "outputs": [
    {
     "name": "stdout",
     "output_type": "stream",
     "text": [
      "['hello', 'everyon', '!', 'thi', 'is', 'a', 'text', 'analysi', 'assign', '.', 'we', 'will', 'be', 'use', 'preprocess', 'method', 'like', 'token', ',', 'po', 'tag', ',', 'stop', 'word', 'remov', ',', 'stem', 'and', 'lemmat', '.']\n"
     ]
    }
   ],
   "source": [
    "stemmer = PorterStemmer()\n",
    "stem_token = []\n",
    "for word in tokens_words_lowercase:\n",
    "    stem_token.append(stemmer.stem(word))\n",
    "print(stem_token)"
   ]
  },
  {
   "cell_type": "markdown",
   "metadata": {},
   "source": [
    "## Lemmatization\n",
    "Lemmatization is the process of finding the form of the related word in the dictionary. It is different from Stemming."
   ]
  },
  {
   "cell_type": "code",
   "execution_count": 12,
   "metadata": {},
   "outputs": [],
   "source": [
    "from nltk.stem import WordNetLemmatizer\n",
    "lemmatizer = WordNetLemmatizer()"
   ]
  },
  {
   "cell_type": "code",
   "execution_count": 13,
   "metadata": {},
   "outputs": [
    {
     "name": "stdout",
     "output_type": "stream",
     "text": [
      "['hello', 'everyone', '!', 'this', 'is', 'a', 'text', 'analysis', 'assignment', '.', 'we', 'will', 'be', 'using', 'preprocessing', 'method', 'like', 'tokenization', ',', 'po', 'tagging', ',', 'stop', 'word', 'removal', ',', 'stemming', 'and', 'lemmatization', '.']\n"
     ]
    }
   ],
   "source": [
    "lemmatized_token = []\n",
    "for word in tokens_words_lowercase:\n",
    "    lemmatized_token.append(lemmatizer.lemmatize(word))\n",
    "print(lemmatized_token)"
   ]
  },
  {
   "cell_type": "markdown",
   "metadata": {},
   "source": [
    "## Term Frequency and Inverse Document Frequency"
   ]
  },
  {
   "cell_type": "markdown",
   "metadata": {},
   "source": [
    "### Using Formulas"
   ]
  },
  {
   "cell_type": "code",
   "execution_count": 14,
   "metadata": {},
   "outputs": [
    {
     "data": {
      "text/plain": [
       "['Hello everyone!',\n",
       " 'This is a text analysis assignment.',\n",
       " 'We will be using preprocessing methods like Tokenization, POS tagging , stop words removal, stemming and lemmatization.']"
      ]
     },
     "execution_count": 14,
     "metadata": {},
     "output_type": "execute_result"
    }
   ],
   "source": [
    "corpus = tokens_sent\n",
    "corpus # contains multiple documents"
   ]
  },
  {
   "cell_type": "code",
   "execution_count": 15,
   "metadata": {},
   "outputs": [
    {
     "name": "stdout",
     "output_type": "stream",
     "text": [
      "Number of words in the corpus:  25\n",
      "Words in the corpus:  {'Tokenization,', 'This', 'text', 'everyone!', 'be', 'analysis', ',', 'stop', 'removal,', 'stemming', 'Hello', 'We', 'like', 'words', 'tagging', 'assignment.', 'POS', 'preprocessing', 'methods', 'and', 'is', 'a', 'will', 'lemmatization.', 'using'}\n"
     ]
    }
   ],
   "source": [
    "words_set = set()\n",
    "for doc in corpus:\n",
    "    words = doc.split(\" \")\n",
    "    words_set = words_set.union(set(words))\n",
    "print(\"Number of words in the corpus: \", len(words_set))\n",
    "print(\"Words in the corpus: \",words_set)"
   ]
  },
  {
   "cell_type": "markdown",
   "metadata": {},
   "source": [
    "<b>Term Frequency</b>:<br>\n",
    "\n",
    "\n",
    "    TF(term,document) = count of term in document / number of words in document"
   ]
  },
  {
   "cell_type": "code",
   "execution_count": 16,
   "metadata": {},
   "outputs": [
    {
     "data": {
      "text/html": [
       "<div>\n",
       "<style scoped>\n",
       "    .dataframe tbody tr th:only-of-type {\n",
       "        vertical-align: middle;\n",
       "    }\n",
       "\n",
       "    .dataframe tbody tr th {\n",
       "        vertical-align: top;\n",
       "    }\n",
       "\n",
       "    .dataframe thead th {\n",
       "        text-align: right;\n",
       "    }\n",
       "</style>\n",
       "<table border=\"1\" class=\"dataframe\">\n",
       "  <thead>\n",
       "    <tr style=\"text-align: right;\">\n",
       "      <th></th>\n",
       "      <th>Tokenization,</th>\n",
       "      <th>This</th>\n",
       "      <th>text</th>\n",
       "      <th>everyone!</th>\n",
       "      <th>be</th>\n",
       "      <th>analysis</th>\n",
       "      <th>,</th>\n",
       "      <th>stop</th>\n",
       "      <th>removal,</th>\n",
       "      <th>stemming</th>\n",
       "      <th>...</th>\n",
       "      <th>assignment.</th>\n",
       "      <th>POS</th>\n",
       "      <th>preprocessing</th>\n",
       "      <th>methods</th>\n",
       "      <th>and</th>\n",
       "      <th>is</th>\n",
       "      <th>a</th>\n",
       "      <th>will</th>\n",
       "      <th>lemmatization.</th>\n",
       "      <th>using</th>\n",
       "    </tr>\n",
       "  </thead>\n",
       "  <tbody>\n",
       "    <tr>\n",
       "      <th>0</th>\n",
       "      <td>0.000000</td>\n",
       "      <td>0.000000</td>\n",
       "      <td>0.000000</td>\n",
       "      <td>0.5</td>\n",
       "      <td>0.000000</td>\n",
       "      <td>0.000000</td>\n",
       "      <td>0.000000</td>\n",
       "      <td>0.000000</td>\n",
       "      <td>0.000000</td>\n",
       "      <td>0.000000</td>\n",
       "      <td>...</td>\n",
       "      <td>0.000000</td>\n",
       "      <td>0.000000</td>\n",
       "      <td>0.000000</td>\n",
       "      <td>0.000000</td>\n",
       "      <td>0.000000</td>\n",
       "      <td>0.000000</td>\n",
       "      <td>0.000000</td>\n",
       "      <td>0.000000</td>\n",
       "      <td>0.000000</td>\n",
       "      <td>0.000000</td>\n",
       "    </tr>\n",
       "    <tr>\n",
       "      <th>1</th>\n",
       "      <td>0.000000</td>\n",
       "      <td>0.166667</td>\n",
       "      <td>0.166667</td>\n",
       "      <td>0.0</td>\n",
       "      <td>0.000000</td>\n",
       "      <td>0.166667</td>\n",
       "      <td>0.000000</td>\n",
       "      <td>0.000000</td>\n",
       "      <td>0.000000</td>\n",
       "      <td>0.000000</td>\n",
       "      <td>...</td>\n",
       "      <td>0.166667</td>\n",
       "      <td>0.000000</td>\n",
       "      <td>0.000000</td>\n",
       "      <td>0.000000</td>\n",
       "      <td>0.000000</td>\n",
       "      <td>0.166667</td>\n",
       "      <td>0.166667</td>\n",
       "      <td>0.000000</td>\n",
       "      <td>0.000000</td>\n",
       "      <td>0.000000</td>\n",
       "    </tr>\n",
       "    <tr>\n",
       "      <th>2</th>\n",
       "      <td>0.058824</td>\n",
       "      <td>0.000000</td>\n",
       "      <td>0.000000</td>\n",
       "      <td>0.0</td>\n",
       "      <td>0.058824</td>\n",
       "      <td>0.000000</td>\n",
       "      <td>0.058824</td>\n",
       "      <td>0.058824</td>\n",
       "      <td>0.058824</td>\n",
       "      <td>0.058824</td>\n",
       "      <td>...</td>\n",
       "      <td>0.000000</td>\n",
       "      <td>0.058824</td>\n",
       "      <td>0.058824</td>\n",
       "      <td>0.058824</td>\n",
       "      <td>0.058824</td>\n",
       "      <td>0.000000</td>\n",
       "      <td>0.000000</td>\n",
       "      <td>0.058824</td>\n",
       "      <td>0.058824</td>\n",
       "      <td>0.058824</td>\n",
       "    </tr>\n",
       "  </tbody>\n",
       "</table>\n",
       "<p>3 rows × 25 columns</p>\n",
       "</div>"
      ],
      "text/plain": [
       "   Tokenization,      This      text  everyone!        be  analysis         ,  \\\n",
       "0       0.000000  0.000000  0.000000        0.5  0.000000  0.000000  0.000000   \n",
       "1       0.000000  0.166667  0.166667        0.0  0.000000  0.166667  0.000000   \n",
       "2       0.058824  0.000000  0.000000        0.0  0.058824  0.000000  0.058824   \n",
       "\n",
       "       stop  removal,  stemming  ...  assignment.       POS  preprocessing  \\\n",
       "0  0.000000  0.000000  0.000000  ...     0.000000  0.000000       0.000000   \n",
       "1  0.000000  0.000000  0.000000  ...     0.166667  0.000000       0.000000   \n",
       "2  0.058824  0.058824  0.058824  ...     0.000000  0.058824       0.058824   \n",
       "\n",
       "    methods       and        is         a      will  lemmatization.     using  \n",
       "0  0.000000  0.000000  0.000000  0.000000  0.000000        0.000000  0.000000  \n",
       "1  0.000000  0.000000  0.166667  0.166667  0.000000        0.000000  0.000000  \n",
       "2  0.058824  0.058824  0.000000  0.000000  0.058824        0.058824  0.058824  \n",
       "\n",
       "[3 rows x 25 columns]"
      ]
     },
     "execution_count": 16,
     "metadata": {},
     "output_type": "execute_result"
    }
   ],
   "source": [
    "n_docs = len(corpus)\n",
    "n_words_set = len(words_set)\n",
    "\n",
    "df_tf = pd.DataFrame(np.zeros((n_docs, n_words_set)), columns=words_set)\n",
    "\n",
    "for i in range(n_docs):\n",
    "    words = corpus[i].split(\" \")\n",
    "    for word in words:\n",
    "        df_tf[word][i] = df_tf[word][i] + (1/len(words))\n",
    "df_tf"
   ]
  },
  {
   "cell_type": "markdown",
   "metadata": {},
   "source": [
    "<b>Inverse Document Frequency</b>:<br>\n",
    "    Document Frequency : df(term) = occurence of term in document<br>\n",
    "    \n",
    "    \n",
    "    idf(term) = log(count of corpus / (df + 1))"
   ]
  },
  {
   "cell_type": "code",
   "execution_count": 17,
   "metadata": {},
   "outputs": [
    {
     "name": "stdout",
     "output_type": "stream",
     "text": [
      "IDF of: \n",
      "Tokenization,: 0.47712125471966244\n",
      "This: 0.47712125471966244\n",
      "text: 0.47712125471966244\n",
      "everyone!: 0.47712125471966244\n",
      "be: 0.47712125471966244\n",
      "analysis: 0.47712125471966244\n",
      ",: 0.47712125471966244\n",
      "stop: 0.47712125471966244\n",
      "removal,: 0.47712125471966244\n",
      "stemming: 0.47712125471966244\n",
      "Hello: 0.47712125471966244\n",
      "We: 0.47712125471966244\n",
      "like: 0.47712125471966244\n",
      "words: 0.47712125471966244\n",
      "tagging: 0.47712125471966244\n",
      "assignment.: 0.47712125471966244\n",
      "POS: 0.47712125471966244\n",
      "preprocessing: 0.47712125471966244\n",
      "methods: 0.47712125471966244\n",
      "and: 0.47712125471966244\n",
      "is: 0.47712125471966244\n",
      "a: 0.47712125471966244\n",
      "will: 0.47712125471966244\n",
      "lemmatization.: 0.47712125471966244\n",
      "using: 0.47712125471966244\n"
     ]
    }
   ],
   "source": [
    "print(\"IDF of: \")\n",
    "\n",
    "idf = {}\n",
    "\n",
    "for word in words_set:\n",
    "    k = 0\n",
    "    for i in range(n_docs):\n",
    "        if word in corpus[i].split():\n",
    "            k += 1\n",
    "    idf[word] = np.log10(n_docs / k)\n",
    "    print(\"{}: {}\".format(word, idf[word]))"
   ]
  },
  {
   "cell_type": "markdown",
   "metadata": {},
   "source": [
    "<b>TF-IDF</b>: <br>\n",
    "    \n",
    "    tf-idf(term, document) = tf(term, document) * idf(term)"
   ]
  },
  {
   "cell_type": "code",
   "execution_count": 18,
   "metadata": {},
   "outputs": [
    {
     "data": {
      "text/html": [
       "<div>\n",
       "<style scoped>\n",
       "    .dataframe tbody tr th:only-of-type {\n",
       "        vertical-align: middle;\n",
       "    }\n",
       "\n",
       "    .dataframe tbody tr th {\n",
       "        vertical-align: top;\n",
       "    }\n",
       "\n",
       "    .dataframe thead th {\n",
       "        text-align: right;\n",
       "    }\n",
       "</style>\n",
       "<table border=\"1\" class=\"dataframe\">\n",
       "  <thead>\n",
       "    <tr style=\"text-align: right;\">\n",
       "      <th></th>\n",
       "      <th>Tokenization,</th>\n",
       "      <th>This</th>\n",
       "      <th>text</th>\n",
       "      <th>everyone!</th>\n",
       "      <th>be</th>\n",
       "      <th>analysis</th>\n",
       "      <th>,</th>\n",
       "      <th>stop</th>\n",
       "      <th>removal,</th>\n",
       "      <th>stemming</th>\n",
       "      <th>...</th>\n",
       "      <th>assignment.</th>\n",
       "      <th>POS</th>\n",
       "      <th>preprocessing</th>\n",
       "      <th>methods</th>\n",
       "      <th>and</th>\n",
       "      <th>is</th>\n",
       "      <th>a</th>\n",
       "      <th>will</th>\n",
       "      <th>lemmatization.</th>\n",
       "      <th>using</th>\n",
       "    </tr>\n",
       "  </thead>\n",
       "  <tbody>\n",
       "    <tr>\n",
       "      <th>0</th>\n",
       "      <td>0.000000</td>\n",
       "      <td>0.00000</td>\n",
       "      <td>0.00000</td>\n",
       "      <td>0.238561</td>\n",
       "      <td>0.000000</td>\n",
       "      <td>0.00000</td>\n",
       "      <td>0.000000</td>\n",
       "      <td>0.000000</td>\n",
       "      <td>0.000000</td>\n",
       "      <td>0.000000</td>\n",
       "      <td>...</td>\n",
       "      <td>0.00000</td>\n",
       "      <td>0.000000</td>\n",
       "      <td>0.000000</td>\n",
       "      <td>0.000000</td>\n",
       "      <td>0.000000</td>\n",
       "      <td>0.00000</td>\n",
       "      <td>0.00000</td>\n",
       "      <td>0.000000</td>\n",
       "      <td>0.000000</td>\n",
       "      <td>0.000000</td>\n",
       "    </tr>\n",
       "    <tr>\n",
       "      <th>1</th>\n",
       "      <td>0.000000</td>\n",
       "      <td>0.07952</td>\n",
       "      <td>0.07952</td>\n",
       "      <td>0.000000</td>\n",
       "      <td>0.000000</td>\n",
       "      <td>0.07952</td>\n",
       "      <td>0.000000</td>\n",
       "      <td>0.000000</td>\n",
       "      <td>0.000000</td>\n",
       "      <td>0.000000</td>\n",
       "      <td>...</td>\n",
       "      <td>0.07952</td>\n",
       "      <td>0.000000</td>\n",
       "      <td>0.000000</td>\n",
       "      <td>0.000000</td>\n",
       "      <td>0.000000</td>\n",
       "      <td>0.07952</td>\n",
       "      <td>0.07952</td>\n",
       "      <td>0.000000</td>\n",
       "      <td>0.000000</td>\n",
       "      <td>0.000000</td>\n",
       "    </tr>\n",
       "    <tr>\n",
       "      <th>2</th>\n",
       "      <td>0.028066</td>\n",
       "      <td>0.00000</td>\n",
       "      <td>0.00000</td>\n",
       "      <td>0.000000</td>\n",
       "      <td>0.028066</td>\n",
       "      <td>0.00000</td>\n",
       "      <td>0.028066</td>\n",
       "      <td>0.028066</td>\n",
       "      <td>0.028066</td>\n",
       "      <td>0.028066</td>\n",
       "      <td>...</td>\n",
       "      <td>0.00000</td>\n",
       "      <td>0.028066</td>\n",
       "      <td>0.028066</td>\n",
       "      <td>0.028066</td>\n",
       "      <td>0.028066</td>\n",
       "      <td>0.00000</td>\n",
       "      <td>0.00000</td>\n",
       "      <td>0.028066</td>\n",
       "      <td>0.028066</td>\n",
       "      <td>0.028066</td>\n",
       "    </tr>\n",
       "  </tbody>\n",
       "</table>\n",
       "<p>3 rows × 25 columns</p>\n",
       "</div>"
      ],
      "text/plain": [
       "   Tokenization,     This     text  everyone!        be  analysis         ,  \\\n",
       "0       0.000000  0.00000  0.00000   0.238561  0.000000   0.00000  0.000000   \n",
       "1       0.000000  0.07952  0.07952   0.000000  0.000000   0.07952  0.000000   \n",
       "2       0.028066  0.00000  0.00000   0.000000  0.028066   0.00000  0.028066   \n",
       "\n",
       "       stop  removal,  stemming  ...  assignment.       POS  preprocessing  \\\n",
       "0  0.000000  0.000000  0.000000  ...      0.00000  0.000000       0.000000   \n",
       "1  0.000000  0.000000  0.000000  ...      0.07952  0.000000       0.000000   \n",
       "2  0.028066  0.028066  0.028066  ...      0.00000  0.028066       0.028066   \n",
       "\n",
       "    methods       and       is        a      will  lemmatization.     using  \n",
       "0  0.000000  0.000000  0.00000  0.00000  0.000000        0.000000  0.000000  \n",
       "1  0.000000  0.000000  0.07952  0.07952  0.000000        0.000000  0.000000  \n",
       "2  0.028066  0.028066  0.00000  0.00000  0.028066        0.028066  0.028066  \n",
       "\n",
       "[3 rows x 25 columns]"
      ]
     },
     "execution_count": 18,
     "metadata": {},
     "output_type": "execute_result"
    }
   ],
   "source": [
    "df_tf_idf = df_tf.copy()\n",
    "\n",
    "for word in words_set:\n",
    "    for i in range(n_docs):\n",
    "        df_tf_idf[word][i] = df_tf[word][i] * idf[word]\n",
    "df_tf_idf"
   ]
  },
  {
   "cell_type": "markdown",
   "metadata": {},
   "source": [
    "### Using In-built Functions from Scikit-learn"
   ]
  },
  {
   "cell_type": "code",
   "execution_count": 19,
   "metadata": {},
   "outputs": [],
   "source": [
    "from sklearn.feature_extraction.text import TfidfVectorizer"
   ]
  },
  {
   "cell_type": "code",
   "execution_count": 20,
   "metadata": {},
   "outputs": [],
   "source": [
    "tr_idf_model  = TfidfVectorizer()\n",
    "tf_idf_vector = tr_idf_model.fit_transform(corpus) # vectorizing the corpus by the function, a sparse matrix is obtained."
   ]
  },
  {
   "cell_type": "code",
   "execution_count": 21,
   "metadata": {},
   "outputs": [
    {
     "name": "stdout",
     "output_type": "stream",
     "text": [
      "<class 'scipy.sparse.csr.csr_matrix'> (3, 23)\n"
     ]
    }
   ],
   "source": [
    "print(type(tf_idf_vector), tf_idf_vector.shape)"
   ]
  },
  {
   "cell_type": "code",
   "execution_count": 22,
   "metadata": {},
   "outputs": [
    {
     "name": "stdout",
     "output_type": "stream",
     "text": [
      "[[0.         0.         0.         0.         0.70710678 0.70710678\n",
      "  0.         0.         0.         0.         0.         0.\n",
      "  0.         0.         0.         0.         0.         0.\n",
      "  0.         0.         0.         0.         0.        ]\n",
      " [0.4472136  0.         0.4472136  0.         0.         0.\n",
      "  0.4472136  0.         0.         0.         0.         0.\n",
      "  0.         0.         0.         0.         0.4472136  0.4472136\n",
      "  0.         0.         0.         0.         0.        ]\n",
      " [0.         0.25       0.         0.25       0.         0.\n",
      "  0.         0.25       0.25       0.25       0.25       0.25\n",
      "  0.25       0.25       0.25       0.25       0.         0.\n",
      "  0.25       0.25       0.25       0.25       0.25      ]]\n"
     ]
    }
   ],
   "source": [
    "tf_idf_array = tf_idf_vector.toarray()\n",
    "\n",
    "print(tf_idf_array) # convert to an regular array to get a better idea of the values"
   ]
  },
  {
   "cell_type": "code",
   "execution_count": 23,
   "metadata": {},
   "outputs": [
    {
     "name": "stdout",
     "output_type": "stream",
     "text": [
      "['analysis', 'and', 'assignment', 'be', 'everyone', 'hello', 'is', 'lemmatization', 'like', 'methods', 'pos', 'preprocessing', 'removal', 'stemming', 'stop', 'tagging', 'text', 'this', 'tokenization', 'using', 'we', 'will', 'words']\n"
     ]
    }
   ],
   "source": [
    "words_set = tr_idf_model.get_feature_names() # obtain the original terms in the corpus by using get_feature_names\n",
    "\n",
    "print(words_set)"
   ]
  },
  {
   "cell_type": "code",
   "execution_count": 24,
   "metadata": {},
   "outputs": [
    {
     "data": {
      "text/html": [
       "<div>\n",
       "<style scoped>\n",
       "    .dataframe tbody tr th:only-of-type {\n",
       "        vertical-align: middle;\n",
       "    }\n",
       "\n",
       "    .dataframe tbody tr th {\n",
       "        vertical-align: top;\n",
       "    }\n",
       "\n",
       "    .dataframe thead th {\n",
       "        text-align: right;\n",
       "    }\n",
       "</style>\n",
       "<table border=\"1\" class=\"dataframe\">\n",
       "  <thead>\n",
       "    <tr style=\"text-align: right;\">\n",
       "      <th></th>\n",
       "      <th>analysis</th>\n",
       "      <th>and</th>\n",
       "      <th>assignment</th>\n",
       "      <th>be</th>\n",
       "      <th>everyone</th>\n",
       "      <th>hello</th>\n",
       "      <th>is</th>\n",
       "      <th>lemmatization</th>\n",
       "      <th>like</th>\n",
       "      <th>methods</th>\n",
       "      <th>...</th>\n",
       "      <th>stemming</th>\n",
       "      <th>stop</th>\n",
       "      <th>tagging</th>\n",
       "      <th>text</th>\n",
       "      <th>this</th>\n",
       "      <th>tokenization</th>\n",
       "      <th>using</th>\n",
       "      <th>we</th>\n",
       "      <th>will</th>\n",
       "      <th>words</th>\n",
       "    </tr>\n",
       "  </thead>\n",
       "  <tbody>\n",
       "    <tr>\n",
       "      <th>0</th>\n",
       "      <td>0.000000</td>\n",
       "      <td>0.00</td>\n",
       "      <td>0.000000</td>\n",
       "      <td>0.00</td>\n",
       "      <td>0.707107</td>\n",
       "      <td>0.707107</td>\n",
       "      <td>0.000000</td>\n",
       "      <td>0.00</td>\n",
       "      <td>0.00</td>\n",
       "      <td>0.00</td>\n",
       "      <td>...</td>\n",
       "      <td>0.00</td>\n",
       "      <td>0.00</td>\n",
       "      <td>0.00</td>\n",
       "      <td>0.000000</td>\n",
       "      <td>0.000000</td>\n",
       "      <td>0.00</td>\n",
       "      <td>0.00</td>\n",
       "      <td>0.00</td>\n",
       "      <td>0.00</td>\n",
       "      <td>0.00</td>\n",
       "    </tr>\n",
       "    <tr>\n",
       "      <th>1</th>\n",
       "      <td>0.447214</td>\n",
       "      <td>0.00</td>\n",
       "      <td>0.447214</td>\n",
       "      <td>0.00</td>\n",
       "      <td>0.000000</td>\n",
       "      <td>0.000000</td>\n",
       "      <td>0.447214</td>\n",
       "      <td>0.00</td>\n",
       "      <td>0.00</td>\n",
       "      <td>0.00</td>\n",
       "      <td>...</td>\n",
       "      <td>0.00</td>\n",
       "      <td>0.00</td>\n",
       "      <td>0.00</td>\n",
       "      <td>0.447214</td>\n",
       "      <td>0.447214</td>\n",
       "      <td>0.00</td>\n",
       "      <td>0.00</td>\n",
       "      <td>0.00</td>\n",
       "      <td>0.00</td>\n",
       "      <td>0.00</td>\n",
       "    </tr>\n",
       "    <tr>\n",
       "      <th>2</th>\n",
       "      <td>0.000000</td>\n",
       "      <td>0.25</td>\n",
       "      <td>0.000000</td>\n",
       "      <td>0.25</td>\n",
       "      <td>0.000000</td>\n",
       "      <td>0.000000</td>\n",
       "      <td>0.000000</td>\n",
       "      <td>0.25</td>\n",
       "      <td>0.25</td>\n",
       "      <td>0.25</td>\n",
       "      <td>...</td>\n",
       "      <td>0.25</td>\n",
       "      <td>0.25</td>\n",
       "      <td>0.25</td>\n",
       "      <td>0.000000</td>\n",
       "      <td>0.000000</td>\n",
       "      <td>0.25</td>\n",
       "      <td>0.25</td>\n",
       "      <td>0.25</td>\n",
       "      <td>0.25</td>\n",
       "      <td>0.25</td>\n",
       "    </tr>\n",
       "  </tbody>\n",
       "</table>\n",
       "<p>3 rows × 23 columns</p>\n",
       "</div>"
      ],
      "text/plain": [
       "   analysis   and  assignment    be  everyone     hello        is  \\\n",
       "0  0.000000  0.00    0.000000  0.00  0.707107  0.707107  0.000000   \n",
       "1  0.447214  0.00    0.447214  0.00  0.000000  0.000000  0.447214   \n",
       "2  0.000000  0.25    0.000000  0.25  0.000000  0.000000  0.000000   \n",
       "\n",
       "   lemmatization  like  methods  ...  stemming  stop  tagging      text  \\\n",
       "0           0.00  0.00     0.00  ...      0.00  0.00     0.00  0.000000   \n",
       "1           0.00  0.00     0.00  ...      0.00  0.00     0.00  0.447214   \n",
       "2           0.25  0.25     0.25  ...      0.25  0.25     0.25  0.000000   \n",
       "\n",
       "       this  tokenization  using    we  will  words  \n",
       "0  0.000000          0.00   0.00  0.00  0.00   0.00  \n",
       "1  0.447214          0.00   0.00  0.00  0.00   0.00  \n",
       "2  0.000000          0.25   0.25  0.25  0.25   0.25  \n",
       "\n",
       "[3 rows x 23 columns]"
      ]
     },
     "execution_count": 24,
     "metadata": {},
     "output_type": "execute_result"
    }
   ],
   "source": [
    "df_tf_idf = pd.DataFrame(tf_idf_array, columns = words_set) # TF-IDF scores of each document\n",
    "\n",
    "df_tf_idf"
   ]
  },
  {
   "cell_type": "code",
   "execution_count": null,
   "metadata": {},
   "outputs": [],
   "source": []
  }
 ],
 "metadata": {
  "kernelspec": {
   "display_name": "Python 3 (ipykernel)",
   "language": "python",
   "name": "python3"
  },
  "language_info": {
   "codemirror_mode": {
    "name": "ipython",
    "version": 3
   },
   "file_extension": ".py",
   "mimetype": "text/x-python",
   "name": "python",
   "nbconvert_exporter": "python",
   "pygments_lexer": "ipython3",
   "version": "3.10.4"
  }
 },
 "nbformat": 4,
 "nbformat_minor": 4
}
